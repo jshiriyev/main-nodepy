{
 "cells": [
  {
   "cell_type": "code",
   "execution_count": 1,
   "id": "e9036e68-7c7e-44bb-8a77-02eda9ed63f6",
   "metadata": {},
   "outputs": [],
   "source": [
    "import sys\n",
    "sys.path.append(r\"C:\\Users\\User\\Documents\\GitHub\\prodpy\")"
   ]
  },
  {
   "cell_type": "code",
   "execution_count": 2,
   "id": "e4da4220-67f2-480f-a098-7c64fda70671",
   "metadata": {},
   "outputs": [],
   "source": [
    "import matplotlib.pyplot as plt"
   ]
  },
  {
   "cell_type": "code",
   "execution_count": 3,
   "id": "3b2ad472-ee47-4138-a998-08bb57e3d661",
   "metadata": {},
   "outputs": [],
   "source": [
    "import numpy as np"
   ]
  },
  {
   "cell_type": "code",
   "execution_count": 4,
   "id": "b5a42642-3028-46ff-b143-b74d9f1aacc0",
   "metadata": {},
   "outputs": [],
   "source": [
    "from IPRcurve import IPR"
   ]
  },
  {
   "cell_type": "code",
   "execution_count": 5,
   "id": "8f5aaf81-6480-4ad8-a69b-059cad667f40",
   "metadata": {},
   "outputs": [],
   "source": [
    "poro = 0.19\n",
    "perm = 8.2      # mD\n",
    "height = 53     # ft\n",
    "Bo = 1.1\n",
    "muo = 1.7       # cp\n",
    "ct = 1.29e-5    # 1/psi\n",
    "darea = 640     # acres\n",
    "rw = 0.328      # ft\n",
    "skin = 0"
   ]
  },
  {
   "cell_type": "code",
   "execution_count": 6,
   "id": "288ebbb9-2b45-48ac-b396-665595562fdb",
   "metadata": {},
   "outputs": [],
   "source": [
    "re = np.sqrt((43560*darea)/np.pi)"
   ]
  },
  {
   "cell_type": "code",
   "execution_count": 7,
   "id": "2732f1f6-899e-49e0-b683-b75b22fb6358",
   "metadata": {},
   "outputs": [],
   "source": [
    "inflow = IPR(\n",
    "    poro = poro,\n",
    "    perm = perm,\n",
    "    height = height,\n",
    "    Bo = Bo,\n",
    "    muo = muo,\n",
    "    ct = ct,\n",
    "    re = re,\n",
    "    rw = rw,\n",
    "    skin = skin\n",
    "    )"
   ]
  },
  {
   "cell_type": "markdown",
   "id": "5d603500-6db0-400e-9231-bfa4e657782a",
   "metadata": {},
   "source": [
    "# Undersaturated Reservoirs"
   ]
  },
  {
   "cell_type": "code",
   "execution_count": 8,
   "id": "53edaa25-4924-43fc-af26-4ee62b7bd70a",
   "metadata": {},
   "outputs": [],
   "source": [
    "pres = 5651     # psi"
   ]
  },
  {
   "cell_type": "code",
   "execution_count": 9,
   "id": "2c3f0f9b-3c65-4e63-a4e1-473562ee833c",
   "metadata": {},
   "outputs": [],
   "source": [
    "prange = np.linspace(0,pres)"
   ]
  },
  {
   "cell_type": "code",
   "execution_count": 10,
   "id": "4e1111ed-82ce-47d3-a3fe-f1fef9fc0174",
   "metadata": {},
   "outputs": [
    {
     "data": {
      "text/plain": [
       "0.2074594206733534"
      ]
     },
     "execution_count": 10,
     "metadata": {},
     "output_type": "execute_result"
    }
   ],
   "source": [
    "inflow.PI(regime=\"transient\",time=30)"
   ]
  },
  {
   "cell_type": "code",
   "execution_count": 11,
   "id": "71012410-5c0d-4309-99ac-e05429ac4a4d",
   "metadata": {},
   "outputs": [
    {
     "data": {
      "text/plain": [
       "0.1805932965750903"
      ]
     },
     "execution_count": 11,
     "metadata": {},
     "output_type": "execute_result"
    }
   ],
   "source": [
    "inflow.PI(regime=\"steady\")"
   ]
  },
  {
   "cell_type": "code",
   "execution_count": 12,
   "id": "d42df3c7-3764-4ca6-b7cd-a5cf1895e958",
   "metadata": {},
   "outputs": [
    {
     "data": {
      "text/plain": [
       "array([1011.50305412,    0.        ])"
      ]
     },
     "execution_count": 12,
     "metadata": {},
     "output_type": "execute_result"
    }
   ],
   "source": [
    "inflow.undersaturated(pres,pwf=np.array([50,5651]),regime=\"steady\")"
   ]
  },
  {
   "cell_type": "code",
   "execution_count": 13,
   "id": "93eaaee6-1d37-45d9-a7ab-03e3023e3a5a",
   "metadata": {},
   "outputs": [
    {
     "data": {
      "text/plain": [
       "0.19678698757306326"
      ]
     },
     "execution_count": 13,
     "metadata": {},
     "output_type": "execute_result"
    }
   ],
   "source": [
    "inflow.PI(regime=\"pseudo\")"
   ]
  },
  {
   "cell_type": "code",
   "execution_count": 14,
   "id": "ef167efa-6cab-4c15-8fc0-eb25a990d104",
   "metadata": {},
   "outputs": [
    {
     "data": {
      "text/plain": [
       "array([1102.2039174,    0.       ])"
      ]
     },
     "execution_count": 14,
     "metadata": {},
     "output_type": "execute_result"
    }
   ],
   "source": [
    "inflow.undersaturated(pres,pwf=np.array([50,5651]),regime=\"pseudo\")"
   ]
  },
  {
   "cell_type": "code",
   "execution_count": 15,
   "id": "2f047720-c72d-4142-b6ed-3239bd971d88",
   "metadata": {},
   "outputs": [],
   "source": [
    "q_transt = inflow.undersaturated(pres,pwf=prange,regime=\"transient\",time=30)\n",
    "q_steady = inflow.undersaturated(pres,pwf=prange,regime=\"steady\")\n",
    "q_pseudo = inflow.undersaturated(pres,pwf=prange,regime=\"pseudo\")"
   ]
  },
  {
   "cell_type": "code",
   "execution_count": 16,
   "id": "c3a3f8bd-53a5-401a-86ab-930a4369eee9",
   "metadata": {},
   "outputs": [
    {
     "data": {
      "image/png": "[encoded data removed]",
      "text/plain": [
       "<Figure size 432x288 with 1 Axes>"
      ]
     },
     "metadata": {
      "needs_background": "light"
     },
     "output_type": "display_data"
    }
   ],
   "source": [
    "plt.plot(q_transt,prange,label='Transient, 30 days')\n",
    "plt.plot(q_steady,prange,label='Steady State')\n",
    "plt.plot(q_pseudo,prange,label='Pseudo-Steady State')\n",
    "\n",
    "plt.xlabel(\"qo [STB/day]\")\n",
    "plt.ylabel(\"pwf [psi]\")\n",
    "\n",
    "plt.legend()\n",
    "\n",
    "plt.xlim(xmin=0)\n",
    "plt.ylim(ymin=0)\n",
    "\n",
    "plt.show()"
   ]
  },
  {
   "cell_type": "markdown",
   "id": "92ae03b5-dc2f-405b-90f4-464c1f749f53",
   "metadata": {},
   "source": [
    "# Two-Phase Reservoirs"
   ]
  },
  {
   "cell_type": "code",
   "execution_count": 17,
   "id": "29708b52-5a3f-4805-bdeb-0537973d52a3",
   "metadata": {},
   "outputs": [],
   "source": [
    "prange2 = np.array([5651,5000,4500,4000,3500,3000,2500,2000,1500,1000,500,0])"
   ]
  },
  {
   "cell_type": "code",
   "execution_count": 18,
   "id": "2d4b1093-4913-4d4c-b442-f447d8a718e7",
   "metadata": {},
   "outputs": [
    {
     "data": {
      "text/plain": [
       "array([  0.        , 121.54913411, 205.99779407, 282.70792251,\n",
       "       351.67951942, 412.91258479, 466.40711863, 512.16312094,\n",
       "       550.18059172, 580.45953097, 602.99993869, 617.80181488])"
      ]
     },
     "execution_count": 18,
     "metadata": {},
     "output_type": "execute_result"
    }
   ],
   "source": [
    "inflow.saturated(pres,pwf=prange2,model=\"vogel\")"
   ]
  },
  {
   "cell_type": "code",
   "execution_count": 19,
   "id": "0f5b4475-084f-49e7-a7d2-f0d8c71b972c",
   "metadata": {},
   "outputs": [
    {
     "data": {
      "text/plain": [
       "array([  0.        ,  29.12666073,  82.70204591, 153.81076364,\n",
       "       234.72853166, 318.6398068 , 399.63778498, 472.7244012 ,\n",
       "       533.81032958, 579.71498328, 608.16651459, 617.80181488])"
      ]
     },
     "execution_count": 19,
     "metadata": {},
     "output_type": "execute_result"
    }
   ],
   "source": [
    "inflow.saturated(pres,pwf=prange2,model=\"fetkovich\",n=2)"
   ]
  },
  {
   "cell_type": "code",
   "execution_count": 20,
   "id": "8d97f707-8e0b-4ba8-8caa-6e0150406007",
   "metadata": {},
   "outputs": [],
   "source": [
    "q_vogel = inflow.saturated(pres,pwf=prange,model=\"vogel\")\n",
    "q_fetkovich = inflow.saturated(pres,pwf=prange,model=\"fetkovich\",n=2)"
   ]
  },
  {
   "cell_type": "code",
   "execution_count": 21,
   "id": "b232b036-5bde-4b7d-9e5f-b849f4a22fb7",
   "metadata": {},
   "outputs": [
    {
     "data": {
      "image/png": "[encoded data removed]",
      "text/plain": [
       "<Figure size 432x288 with 1 Axes>"
      ]
     },
     "metadata": {
      "needs_background": "light"
     },
     "output_type": "display_data"
    }
   ],
   "source": [
    "plt.plot(q_vogel,prange,label='Vogel')\n",
    "plt.plot(q_fetkovich,prange,label='Fetkovich')\n",
    "\n",
    "plt.legend()\n",
    "\n",
    "plt.xlim(xmin=0)\n",
    "plt.ylim(ymin=0)\n",
    "\n",
    "plt.show()"
   ]
  },
  {
   "cell_type": "markdown",
   "id": "440cb57e-211b-420d-af56-15b1fc0a9e0e",
   "metadata": {},
   "source": [
    "# Partial Two-Phase Reservoirs"
   ]
  },
  {
   "cell_type": "code",
   "execution_count": 22,
   "id": "dbb335fc-b674-46a1-a59c-16eb97b5d366",
   "metadata": {},
   "outputs": [],
   "source": [
    "prange3 = np.array([0,565,1130,1695,2260,2826,3000,5651])"
   ]
  },
  {
   "cell_type": "code",
   "execution_count": 23,
   "id": "fd0486cf-c8a7-40bb-ab27-75c54679c12e",
   "metadata": {},
   "outputs": [
    {
     "data": {
      "text/plain": [
       "array([849.66061668, 828.00020007, 787.7266498 , 728.83996587,\n",
       "       651.34014828, 555.04058466, 521.68230406,   0.        ])"
      ]
     },
     "execution_count": 23,
     "metadata": {},
     "output_type": "execute_result"
    }
   ],
   "source": [
    "inflow.partial(3000,pres,pwf=prange3,model=\"vogel\")"
   ]
  },
  {
   "cell_type": "code",
   "execution_count": 24,
   "id": "81b1136f-5791-4092-8a8c-d46a2505aaaf",
   "metadata": {},
   "outputs": [],
   "source": [
    "q_vogel = inflow.partial(3000,pres,pwf=prange,model=\"vogel\")"
   ]
  },
  {
   "cell_type": "code",
   "execution_count": 25,
   "id": "c5ff9b7e-eb2e-4082-a10c-b6cf2b0d8f6a",
   "metadata": {},
   "outputs": [],
   "source": [
    "q_fetkovich = inflow.partial(3000,pres,pwf=prange,model=\"fetkovich\",n=1.1,regime=\"pseudo\")"
   ]
  },
  {
   "cell_type": "code",
   "execution_count": 26,
   "id": "813a7486-349e-4fa1-b607-8062979ef079",
   "metadata": {},
   "outputs": [
    {
     "data": {
      "image/png": "[encoded data removed]",
      "text/plain": [
       "<Figure size 432x288 with 1 Axes>"
      ]
     },
     "metadata": {
      "needs_background": "light"
     },
     "output_type": "display_data"
    }
   ],
   "source": [
    "plt.plot(q_vogel,prange,label='Vogel')\n",
    "plt.plot(q_fetkovich,prange,label='Fetkovich')\n",
    "\n",
    "plt.legend()\n",
    "\n",
    "plt.xlim(xmin=0)\n",
    "plt.ylim(ymin=0)\n",
    "\n",
    "plt.show()"
   ]
  },
  {
   "cell_type": "markdown",
   "id": "4b3b16ed-5d79-478b-aa61-01e5a034c947",
   "metadata": {},
   "source": [
    "# IPR Curves Using Test Points"
   ]
  },
  {
   "cell_type": "markdown",
   "id": "14953403-ea0a-42b3-9e44-437fc59a188f",
   "metadata": {},
   "source": [
    "## Vogel Equation"
   ]
  },
  {
   "cell_type": "markdown",
   "id": "7a7a7035-c8fe-4cf2-960a-f90b76e58095",
   "metadata": {},
   "source": [
    "### Well A"
   ]
  },
  {
   "cell_type": "code",
   "execution_count": 27,
   "id": "42d29dd7-076f-48b9-853a-2a9adcd5a33c",
   "metadata": {},
   "outputs": [],
   "source": [
    "PI = inflow.PI_vogel(3000,5000,300,4000)"
   ]
  },
  {
   "cell_type": "code",
   "execution_count": 28,
   "id": "03271450-c527-4e4e-a680-d1a48dd6933b",
   "metadata": {},
   "outputs": [
    {
     "data": {
      "text/plain": [
       "0.3"
      ]
     },
     "execution_count": 28,
     "metadata": {},
     "output_type": "execute_result"
    }
   ],
   "source": [
    "PI"
   ]
  },
  {
   "cell_type": "code",
   "execution_count": 29,
   "id": "891c8804-8260-45f7-b4bb-24053f19e1d5",
   "metadata": {},
   "outputs": [],
   "source": [
    "prange = np.array([0,500,1000,1500,2000,2500,3000,5000])"
   ]
  },
  {
   "cell_type": "code",
   "execution_count": 33,
   "id": "53ab1858-8ab6-4dbc-9039-dd4e16482078",
   "metadata": {},
   "outputs": [
    {
     "data": {
      "text/plain": [
       "array([1100.        , 1072.22222222, 1022.22222222,  950.        ,\n",
       "        855.55555556,  738.88888889,  600.        ,    0.        ])"
      ]
     },
     "execution_count": 33,
     "metadata": {},
     "output_type": "execute_result"
    }
   ],
   "source": [
    "inflow.partial(3000,5000,prange,model=\"vogel\",PI=PI)"
   ]
  },
  {
   "cell_type": "code",
   "execution_count": 34,
   "id": "b4171b3a-a610-4429-8e1d-d151a576ec0a",
   "metadata": {},
   "outputs": [],
   "source": [
    "prange = np.linspace(0,5000)"
   ]
  },
  {
   "cell_type": "code",
   "execution_count": 35,
   "id": "ed9c6433-ebd1-420d-9d0b-dc071b6be0f8",
   "metadata": {},
   "outputs": [],
   "source": [
    "q = inflow.partial(3000,5000,prange,model=\"vogel\",PI=PI)"
   ]
  },
  {
   "cell_type": "code",
   "execution_count": 36,
   "id": "28739894-894f-45c4-a26d-df95d815ce2f",
   "metadata": {},
   "outputs": [
    {
     "data": {
      "image/png": "[encoded data removed]",
      "text/plain": [
       "<Figure size 432x288 with 1 Axes>"
      ]
     },
     "metadata": {
      "needs_background": "light"
     },
     "output_type": "display_data"
    }
   ],
   "source": [
    "plt.plot(q,prange,label='Vogel')\n",
    "\n",
    "plt.legend()\n",
    "\n",
    "plt.xlim(xmin=0)\n",
    "plt.ylim(ymin=0)\n",
    "\n",
    "plt.show()"
   ]
  },
  {
   "cell_type": "markdown",
   "id": "258bc8c3-6cfb-4eeb-8120-ec68dd497844",
   "metadata": {},
   "source": [
    "### Well B"
   ]
  },
  {
   "cell_type": "code",
   "execution_count": 37,
   "id": "7e271303-ac2c-4f2a-90c8-d31a1c808d04",
   "metadata": {},
   "outputs": [],
   "source": [
    "PI = inflow.PI_vogel(3000,5000,900,2000)"
   ]
  },
  {
   "cell_type": "code",
   "execution_count": 38,
   "id": "1c895997-9aca-4788-bf97-8723bd09a535",
   "metadata": {},
   "outputs": [
    {
     "data": {
      "text/plain": [
       "0.3155844155844156"
      ]
     },
     "execution_count": 38,
     "metadata": {},
     "output_type": "execute_result"
    }
   ],
   "source": [
    "PI"
   ]
  },
  {
   "cell_type": "code",
   "execution_count": 41,
   "id": "2ed6a846-710b-4242-a6b7-8c66c8685e32",
   "metadata": {},
   "outputs": [],
   "source": [
    "prange = np.array([0,500,1000,1500,2000,2500,3000,5000])"
   ]
  },
  {
   "cell_type": "code",
   "execution_count": 42,
   "id": "51dc8731-6485-43f7-8560-15489a464c74",
   "metadata": {},
   "outputs": [],
   "source": [
    "q = inflow.partial(3000,5000,prange,model=\"vogel\",PI=PI)"
   ]
  },
  {
   "cell_type": "code",
   "execution_count": 43,
   "id": "af362fb4-af01-4a62-b910-881a810a91bb",
   "metadata": {},
   "outputs": [
    {
     "data": {
      "text/plain": [
       "array([1157.14285714, 1127.92207792, 1075.32467532,  999.35064935,\n",
       "        900.        ,  777.27272727,  631.16883117,    0.        ])"
      ]
     },
     "execution_count": 43,
     "metadata": {},
     "output_type": "execute_result"
    }
   ],
   "source": [
    "q"
   ]
  },
  {
   "cell_type": "markdown",
   "id": "d9d87d44-da2f-4414-8a9d-20e06b0b23fa",
   "metadata": {},
   "source": [
    "## Fetkovich Equation"
   ]
  },
  {
   "cell_type": "code",
   "execution_count": 44,
   "id": "12a3de68-0ac7-4550-b440-339a44b29dc7",
   "metadata": {},
   "outputs": [],
   "source": [
    "# reservoir pressure 3,000 psia\n",
    "# Tested flowing bottom-hole pressure, pwf1 = 2000 psia\n",
    "# Tested production rate at pwf1, q1 = 500 stb/day\n",
    "# Tested flowing bottom-hole pressure, pwf2 = 1000 psia\n",
    "# Tested production rate at pwf2, q2 = 800 stb/day"
   ]
  },
  {
   "cell_type": "code",
   "execution_count": 45,
   "id": "a2497dba-e289-43a8-ad1d-34477189b256",
   "metadata": {},
   "outputs": [],
   "source": [
    "prange = np.array([0,500,1000,1500,2000,2500,3000])"
   ]
  },
  {
   "cell_type": "code",
   "execution_count": 46,
   "id": "c20e17f6-31ca-4aa3-9c50-d5754532f839",
   "metadata": {},
   "outputs": [],
   "source": [
    "PI1 = inflow.PI_vogel(3000,3000,500,2000)"
   ]
  },
  {
   "cell_type": "code",
   "execution_count": 47,
   "id": "94cc6b85-eaad-4b89-9a5d-f564e688f46a",
   "metadata": {},
   "outputs": [
    {
     "data": {
      "text/plain": [
       "0.5869565217391305"
      ]
     },
     "execution_count": 47,
     "metadata": {},
     "output_type": "execute_result"
    }
   ],
   "source": [
    "PI1"
   ]
  },
  {
   "cell_type": "code",
   "execution_count": 48,
   "id": "c2e391f8-daa3-4dee-86c8-c98be9978051",
   "metadata": {},
   "outputs": [
    {
     "data": {
      "text/plain": [
       "array([978.26086957, 923.91304348, 826.08695652, 684.7826087 ,\n",
       "       500.        , 271.73913043,   0.        ])"
      ]
     },
     "execution_count": 48,
     "metadata": {},
     "output_type": "execute_result"
    }
   ],
   "source": [
    "inflow.partial(3000,3000,prange,model=\"vogel\",PI=PI1)"
   ]
  },
  {
   "cell_type": "code",
   "execution_count": 49,
   "id": "992c4ce2-61f8-4b43-9ac4-9390f19e7803",
   "metadata": {},
   "outputs": [],
   "source": [
    "PI2,n = inflow.PI_fetkovich(3000,3000,500,800,2000,1000)"
   ]
  },
  {
   "cell_type": "code",
   "execution_count": 50,
   "id": "8df54fa4-bbe6-4fbd-b0f1-9fb2718cf113",
   "metadata": {},
   "outputs": [
    {
     "data": {
      "text/plain": [
       "(0.54, 1.0)"
      ]
     },
     "execution_count": 50,
     "metadata": {},
     "output_type": "execute_result"
    }
   ],
   "source": [
    "PI2,n"
   ]
  },
  {
   "cell_type": "code",
   "execution_count": 51,
   "id": "3d8569bd-2609-4b7b-8395-d825e12c83fb",
   "metadata": {},
   "outputs": [
    {
     "data": {
      "text/plain": [
       "array([900., 875., 800., 675., 500., 275.,   0.])"
      ]
     },
     "execution_count": 51,
     "metadata": {},
     "output_type": "execute_result"
    }
   ],
   "source": [
    "inflow.partial(3000,3000,prange,model=\"fetkovich\",n=n,PI=PI2)"
   ]
  },
  {
   "cell_type": "code",
   "execution_count": 52,
   "id": "bed4ca0c-a2b2-4694-a63e-c997b096f859",
   "metadata": {},
   "outputs": [],
   "source": [
    "prange = np.linspace(0,3000)"
   ]
  },
  {
   "cell_type": "code",
   "execution_count": 53,
   "id": "f6a8c196-44b0-47ee-9621-f7fa5792e2ab",
   "metadata": {},
   "outputs": [],
   "source": [
    "q1 = inflow.partial(3000,3000,prange,model=\"vogel\",PI=PI1)\n",
    "q2 = inflow.partial(3000,3000,prange,model=\"fetkovich\",n=n,PI=PI2)"
   ]
  },
  {
   "cell_type": "code",
   "execution_count": 54,
   "id": "cee6e24b-c178-4ffe-84dd-42b4283bbc2c",
   "metadata": {},
   "outputs": [
    {
     "data": {
      "image/png": "[encoded data removed]",
      "text/plain": [
       "<Figure size 432x288 with 1 Axes>"
      ]
     },
     "metadata": {
      "needs_background": "light"
     },
     "output_type": "display_data"
    }
   ],
   "source": [
    "plt.plot(q1,prange,label='Vogel')\n",
    "plt.plot(q2,prange,label='Fetkovich')\n",
    "\n",
    "plt.legend()\n",
    "\n",
    "plt.xlim(xmin=0)\n",
    "plt.ylim(ymin=0)\n",
    "\n",
    "plt.show()"
   ]
  },
  {
   "cell_type": "markdown",
   "id": "d144e68f-aae5-44ad-82b6-a5d240fea9b4",
   "metadata": {},
   "source": [
    "# Composite IPR Model"
   ]
  },
  {
   "cell_type": "code",
   "execution_count": null,
   "id": "c2945843-48f9-4fca-be64-535b211360ea",
   "metadata": {},
   "outputs": [],
   "source": []
  }
 ],
 "metadata": {
  "kernelspec": {
   "display_name": "Python 3 (ipykernel)",
   "language": "python",
   "name": "python3"
  },
  "language_info": {
   "codemirror_mode": {
    "name": "ipython",
    "version": 3
   },
   "file_extension": ".py",
   "mimetype": "text/x-python",
   "name": "python",
   "nbconvert_exporter": "python",
   "pygments_lexer": "ipython3",
   "version": "3.9.7"
  }
 },
 "nbformat": 4,
 "nbformat_minor": 5
}
