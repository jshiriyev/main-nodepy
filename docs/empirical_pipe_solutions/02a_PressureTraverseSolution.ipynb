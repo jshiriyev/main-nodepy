{
 "cells": [
  {
   "cell_type": "markdown",
   "metadata": {},
   "source": [
    "# Pressure Traverse- Revised Beggs and Brill Correlation"
   ]
  },
  {
   "cell_type": "markdown",
   "metadata": {},
   "source": [
    "Importing Libraries"
   ]
  },
  {
   "cell_type": "code",
   "execution_count": 1,
   "metadata": {},
   "outputs": [],
   "source": [
    "import numpy as np\n",
    "import pandas as pd\n",
    "import math\n",
    "import matplotlib.pyplot as plt\n",
    "import psapy.FluidProps\n",
    "import psapy.BeggsandBrill as BB"
   ]
  },
  {
   "cell_type": "markdown",
   "metadata": {},
   "source": [
    "Input Data"
   ]
  },
  {
   "cell_type": "code",
   "execution_count": 2,
   "metadata": {},
   "outputs": [
    {
     "data": {
      "text/plain": [
       "0.01"
      ]
     },
     "execution_count": 2,
     "metadata": {},
     "output_type": "execute_result"
    }
   ],
   "source": [
    "oil_rate= 100\n",
    "water_rate = 50\n",
    "gor = 300\n",
    "gas_grav = 0.65\n",
    "oil_grav = 35\n",
    "wtr_grav = 1.07\n",
    "diameter=2.441\n",
    "angle=90.0\n",
    "thp= 150.0\n",
    "tht=100.0\n",
    "twf=150.0\n",
    "depth = 5000\n",
    "sample_size =51\n",
    "\n",
    "def temp_gradient(t0,t1, depth):\n",
    "    if depth==0:\n",
    "        return 0\n",
    "    else:\n",
    "        return abs(t0-t1)/depth    \n",
    "\n",
    "t_grad = temp_gradient(tht,twf, depth)\n",
    "t_grad"
   ]
  },
  {
   "cell_type": "code",
   "execution_count": 3,
   "metadata": {},
   "outputs": [],
   "source": [
    "depths = np.linspace(0, depth, sample_size)"
   ]
  },
  {
   "cell_type": "code",
   "execution_count": 4,
   "metadata": {},
   "outputs": [],
   "source": [
    "temps = tht + t_grad * depths"
   ]
  },
  {
   "cell_type": "code",
   "execution_count": 5,
   "metadata": {},
   "outputs": [
    {
     "data": {
      "text/plain": [
       "2313.7335679949833"
      ]
     },
     "execution_count": 5,
     "metadata": {},
     "output_type": "execute_result"
    }
   ],
   "source": [
    "#def Pgrad(P, T, oil_rate, wtr_rate, Gor, gas_grav, oil_grav, wtr_grav, d, angle):\n",
    "\n",
    "\n",
    "def pressure_traverse(oil_rate):\n",
    "    p=[]\n",
    "    dpdz=[]\n",
    "    for i in range(len(depths)):\n",
    "\n",
    "        if i==0:\n",
    "            p.append(thp)\n",
    "        else:\n",
    "            dz = (depths[i]-depths[i-1])\n",
    "            pressure = p[i-1]+dz*dpdz[i-1]\n",
    "            p.append(pressure)\n",
    "\n",
    "        dpdz_step = BB.Pgrad(p[i], temps[i], oil_rate, water_rate, gor, gas_grav, oil_grav, wtr_grav, diameter, angle) \n",
    "        dpdz.append(dpdz_step)\n",
    "        \n",
    "    return p, dpdz\n",
    "\n",
    "p, dpdz =pressure_traverse(oil_rate)\n",
    "p[-1]\n"
   ]
  },
  {
   "cell_type": "code",
   "execution_count": 6,
   "metadata": {},
   "outputs": [
    {
     "data": {
      "image/png": "[encoded data removed]",
      "text/plain": [
       "<Figure size 432x288 with 1 Axes>"
      ]
     },
     "metadata": {
      "needs_background": "light"
     },
     "output_type": "display_data"
    }
   ],
   "source": [
    "scatter =plt.scatter(p, depths)\n",
    "ax = scatter.axes\n",
    "ax.invert_yaxis()\n",
    "plt.xlabel('Pressure')\n",
    "plt.ylabel('Depth')\n",
    "plt.show()"
   ]
  },
  {
   "cell_type": "code",
   "execution_count": 7,
   "metadata": {},
   "outputs": [],
   "source": [
    "oil_rates=[100,200,300] "
   ]
  },
  {
   "cell_type": "code",
   "execution_count": 8,
   "metadata": {},
   "outputs": [
    {
     "data": {
      "image/png": "[encoded data removed]",
      "text/plain": [
       "<Figure size 432x288 with 1 Axes>"
      ]
     },
     "metadata": {
      "needs_background": "light"
     },
     "output_type": "display_data"
    }
   ],
   "source": [
    "for r in oil_rates:\n",
    "    p, dpdz =pressure_traverse(r)\n",
    "    scatter =plt.scatter(p, depths)\n",
    "ax = scatter.axes\n",
    "ax.invert_yaxis()\n",
    "plt.xlabel('Pressure')\n",
    "plt.ylabel('Depth')\n",
    "plt.show()"
   ]
  }
 ],
 "metadata": {
  "kernelspec": {
   "display_name": "Python 3",
   "language": "python",
   "name": "python3"
  },
  "language_info": {
   "codemirror_mode": {
    "name": "ipython",
    "version": 3
   },
   "file_extension": ".py",
   "mimetype": "text/x-python",
   "name": "python",
   "nbconvert_exporter": "python",
   "pygments_lexer": "ipython3",
   "version": "3.7.6"
  }
 },
 "nbformat": 4,
 "nbformat_minor": 4
}
